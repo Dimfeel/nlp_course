{
  "nbformat": 4,
  "nbformat_minor": 0,
  "metadata": {
    "kernelspec": {
      "display_name": "Python 3",
      "language": "python",
      "name": "python3"
    },
    "language_info": {
      "codemirror_mode": {
        "name": "ipython",
        "version": 3
      },
      "file_extension": ".py",
      "mimetype": "text/x-python",
      "name": "python",
      "nbconvert_exporter": "python",
      "pygments_lexer": "ipython3",
      "version": "3.8.1"
    },
    "colab": {
      "name": "homework_part1.ipynb",
      "provenance": []
    }
  },
  "cells": [
    {
      "cell_type": "code",
      "metadata": {
        "id": "HlXPlmOC_2yp"
      },
      "source": [
        "import numpy as np\n",
        "import matplotlib.pyplot as plt\n",
        "%matplotlib inline\n",
        "\n",
        "#22% 13:00\n",
        "#48% 13:30\n",
        "#66% 14:00\n",
        "#79% 14:30\n",
        "#93% 15:00"
      ],
      "execution_count": 2,
      "outputs": []
    },
    {
      "cell_type": "markdown",
      "metadata": {
        "id": "D9wy1Pqt_2yt"
      },
      "source": [
        "### Homework part I: Prohibited Comment Classification (3 points)\n",
        "\n",
        "![img](https://github.com/yandexdataschool/nlp_course/raw/master/resources/banhammer.jpg)\n",
        "\n",
        "__In this notebook__ you will build an algorithm that classifies social media comments into normal or toxic.\n",
        "Like in many real-world cases, you only have a small (10^3) dataset of hand-labeled examples to work with. We'll tackle this problem using both classical nlp methods and embedding-based approach."
      ]
    },
    {
      "cell_type": "code",
      "metadata": {
        "id": "MIxsyUn1Boxr",
        "outputId": "3ee93a0d-78da-487c-d4d0-34ef3e996668",
        "colab": {
          "base_uri": "https://localhost:8080/"
        }
      },
      "source": [
        "!wget https://raw.githubusercontent.com/Dimfeel/nlp_course/2020/week02_classification/comments.tsv -O comments.tsv"
      ],
      "execution_count": 67,
      "outputs": [
        {
          "output_type": "stream",
          "text": [
            "--2021-07-18 11:16:13--  https://raw.githubusercontent.com/Dimfeel/nlp_course/2020/week02_classification/comments.tsv\n",
            "Resolving raw.githubusercontent.com (raw.githubusercontent.com)... 185.199.108.133, 185.199.109.133, 185.199.110.133, ...\n",
            "Connecting to raw.githubusercontent.com (raw.githubusercontent.com)|185.199.108.133|:443... connected.\n",
            "HTTP request sent, awaiting response... 200 OK\n",
            "Length: 353358 (345K) [text/plain]\n",
            "Saving to: ‘comments.tsv’\n",
            "\n",
            "\rcomments.tsv          0%[                    ]       0  --.-KB/s               \rcomments.tsv        100%[===================>] 345.08K  --.-KB/s    in 0.008s  \n",
            "\n",
            "2021-07-18 11:16:13 (44.3 MB/s) - ‘comments.tsv’ saved [353358/353358]\n",
            "\n"
          ],
          "name": "stdout"
        }
      ]
    },
    {
      "cell_type": "code",
      "metadata": {
        "id": "mQpDrsJw_2yu",
        "outputId": "1df6eb8b-4911-436c-96d4-582051d6c6d6",
        "colab": {
          "base_uri": "https://localhost:8080/",
          "height": 204
        }
      },
      "source": [
        "import pandas as pd\n",
        "data = pd.read_csv(\"comments.tsv\", sep='\\t')\n",
        "\n",
        "texts = data['comment_text'].values\n",
        "target = data['should_ban'].values\n",
        "data[50::200]"
      ],
      "execution_count": 68,
      "outputs": [
        {
          "output_type": "execute_result",
          "data": {
            "text/html": [
              "<div>\n",
              "<style scoped>\n",
              "    .dataframe tbody tr th:only-of-type {\n",
              "        vertical-align: middle;\n",
              "    }\n",
              "\n",
              "    .dataframe tbody tr th {\n",
              "        vertical-align: top;\n",
              "    }\n",
              "\n",
              "    .dataframe thead th {\n",
              "        text-align: right;\n",
              "    }\n",
              "</style>\n",
              "<table border=\"1\" class=\"dataframe\">\n",
              "  <thead>\n",
              "    <tr style=\"text-align: right;\">\n",
              "      <th></th>\n",
              "      <th>should_ban</th>\n",
              "      <th>comment_text</th>\n",
              "    </tr>\n",
              "  </thead>\n",
              "  <tbody>\n",
              "    <tr>\n",
              "      <th>50</th>\n",
              "      <td>0</td>\n",
              "      <td>\"Those who're in advantageous positions are th...</td>\n",
              "    </tr>\n",
              "    <tr>\n",
              "      <th>250</th>\n",
              "      <td>1</td>\n",
              "      <td>Fartsalot56 says f**k you motherclucker!!</td>\n",
              "    </tr>\n",
              "    <tr>\n",
              "      <th>450</th>\n",
              "      <td>1</td>\n",
              "      <td>Are you a fool? \\n\\nI am sorry, but you seem t...</td>\n",
              "    </tr>\n",
              "    <tr>\n",
              "      <th>650</th>\n",
              "      <td>1</td>\n",
              "      <td>I AM NOT A VANDAL!!!!!!!!!!!!!!!!!!!!!!!!!!!!!!</td>\n",
              "    </tr>\n",
              "    <tr>\n",
              "      <th>850</th>\n",
              "      <td>0</td>\n",
              "      <td>Citing sources\\n\\nCheck out the Wikipedia:Citi...</td>\n",
              "    </tr>\n",
              "  </tbody>\n",
              "</table>\n",
              "</div>"
            ],
            "text/plain": [
              "     should_ban                                       comment_text\n",
              "50            0  \"Those who're in advantageous positions are th...\n",
              "250           1          Fartsalot56 says f**k you motherclucker!!\n",
              "450           1  Are you a fool? \\n\\nI am sorry, but you seem t...\n",
              "650           1    I AM NOT A VANDAL!!!!!!!!!!!!!!!!!!!!!!!!!!!!!!\n",
              "850           0  Citing sources\\n\\nCheck out the Wikipedia:Citi..."
            ]
          },
          "metadata": {
            "tags": []
          },
          "execution_count": 68
        }
      ]
    },
    {
      "cell_type": "code",
      "metadata": {
        "id": "QXGfwKnu_2yw"
      },
      "source": [
        "from sklearn.model_selection import train_test_split\n",
        "texts_train, texts_test, y_train, y_test = train_test_split(texts, target, test_size=0.5, random_state=42)"
      ],
      "execution_count": 69,
      "outputs": []
    },
    {
      "cell_type": "markdown",
      "metadata": {
        "id": "SL2mRfr2_2yx"
      },
      "source": [
        "__Note:__ it is generally a good idea to split data into train/test before anything is done to them.\n",
        "\n",
        "It guards you against possible data leakage in the preprocessing stage. For example, should you decide to select words present in obscene tweets as features, you should only count those words over the training set. Otherwise your algoritm can cheat evaluation."
      ]
    },
    {
      "cell_type": "markdown",
      "metadata": {
        "id": "XfoMRKHR_2yy"
      },
      "source": [
        "### Preprocessing and tokenization\n",
        "\n",
        "Comments contain raw text with punctuation, upper/lowercase letters and even newline symbols.\n",
        "\n",
        "To simplify all further steps, we'll split text into space-separated tokens using one of nltk tokenizers."
      ]
    },
    {
      "cell_type": "code",
      "metadata": {
        "id": "mGjeMf-7_2yy",
        "outputId": "c80fbbf4-d8f2-4f25-fbb2-c1c016be5317",
        "colab": {
          "base_uri": "https://localhost:8080/"
        }
      },
      "source": [
        "from nltk.tokenize import TweetTokenizer\n",
        "tokenizer = TweetTokenizer()\n",
        "preprocess = lambda text: ' '.join(tokenizer.tokenize(text.lower()))\n",
        "\n",
        "\n",
        "text = 'How to be a grown-up at work: replace \"fuck you\" with \"Ok, great!\".'\n",
        "print(\"before:\", text,)\n",
        "print(\"after:\", preprocess(text),)"
      ],
      "execution_count": 70,
      "outputs": [
        {
          "output_type": "stream",
          "text": [
            "before: How to be a grown-up at work: replace \"fuck you\" with \"Ok, great!\".\n",
            "after: how to be a grown-up at work : replace \" fuck you \" with \" ok , great ! \" .\n"
          ],
          "name": "stdout"
        }
      ]
    },
    {
      "cell_type": "code",
      "metadata": {
        "id": "hB-3U8TJ_2yz"
      },
      "source": [
        "# task: preprocess each comment in train and test\n",
        "\n",
        "texts_train = [preprocess(text) for text in texts_train]\n",
        "texts_test = [preprocess(text) for text in texts_test]"
      ],
      "execution_count": 71,
      "outputs": []
    },
    {
      "cell_type": "code",
      "metadata": {
        "id": "cIYlC--F_2y0"
      },
      "source": [
        "assert texts_train[5] ==  'who cares anymore . they attack with impunity .'\n",
        "assert texts_test[89] == 'hey todds ! quick q ? why are you so gay'\n",
        "assert len(texts_test) == len(y_test)"
      ],
      "execution_count": 72,
      "outputs": []
    },
    {
      "cell_type": "markdown",
      "metadata": {
        "id": "nfe2WL43_2y0"
      },
      "source": [
        "### Solving it: bag of words\n",
        "\n",
        "![img](http://www.novuslight.com/uploads/n/BagofWords.jpg)\n",
        "\n",
        "One traditional approach to such problem is to use bag of words features:\n",
        "1. build a vocabulary of frequent words (use train data only)\n",
        "2. for each training sample, count the number of times a word occurs in it (for each word in vocabulary).\n",
        "3. consider this count a feature for some classifier\n",
        "\n",
        "__Note:__ in practice, you can compute such features using sklearn. Please don't do that in the current assignment, though.\n",
        "* `from sklearn.feature_extraction.text import CountVectorizer, TfidfVectorizer`"
      ]
    },
    {
      "cell_type": "code",
      "metadata": {
        "id": "Pc_2eo_M_2y1",
        "outputId": "6223e4af-31a3-43db-d0ee-4f51878525a3",
        "colab": {
          "base_uri": "https://localhost:8080/"
        }
      },
      "source": [
        "# task: find up to k most frequent tokens in texts_train,\n",
        "# sort them by number of occurences (highest first)\n",
        "from collections import OrderedDict\n",
        "\n",
        "k = 10000\n",
        "\n",
        "words_frequency = {}\n",
        "\n",
        "for text in texts_train:\n",
        "  for word in text.split(\" \"):\n",
        "    if word not in words_frequency:\n",
        "      words_frequency[word] = 1\n",
        "    else:\n",
        "      words_frequency[word] += 1\n",
        "\n",
        "\n",
        "words = sorted(words_frequency.items(), key=lambda item: item[1], reverse=True)\n",
        "bow_vocabulary = [k for (k, v) in words]\n",
        "bow_vocabulary = bow_vocabulary[:k]\n",
        "\n",
        "print('example features:', sorted(bow_vocabulary)[::100])"
      ],
      "execution_count": 108,
      "outputs": [
        {
          "output_type": "stream",
          "text": [
            "example features: ['!', '12/13', '3', ']', 'adolf', 'altered', 'arcane', 'automatically', 'benefit', 'bottom', 'cambefort', 'chemistry', 'comb-like', 'consume', 'credited', 'decided', 'diatribe', 'doing', 'education', 'essay', 'factual', 'fire', 'from', 'go', 'handle', 'himself', 'ideas', 'info', \"israel's\", 'killings', 'let', 'losers', 'mckay', 'moderately', 'national', 'nothing', 'oppose', 'paying', 'plan', 'pressure', 'pump', 'reasoning', 'repeatedly', 'rfd', 'school', 'sheep', 'slight', 'spin', 'stuffed', 'systemic', 'themselves', 'toot', 'uer', 'userpage', 'wannabe', 'wiki', 'yank', 'ா']\n"
          ],
          "name": "stdout"
        }
      ]
    },
    {
      "cell_type": "code",
      "metadata": {
        "id": "iZ8XecIG_2y2"
      },
      "source": [
        "def text_to_bow(text):\n",
        "    \"\"\" convert text string to an array of token counts. Use bow_vocabulary. \"\"\"\n",
        "    bow = [0]*len(bow_vocabulary)\n",
        "    for word in text.split(\" \"):\n",
        "      if word in bow_vocabulary:\n",
        "        bow[bow_vocabulary.index(word)] += 1\n",
        "    \n",
        "    return np.array(bow, 'float32')"
      ],
      "execution_count": 109,
      "outputs": []
    },
    {
      "cell_type": "code",
      "metadata": {
        "id": "toTu_8rx_2y3"
      },
      "source": [
        "X_train_bow = np.stack(list(map(text_to_bow, texts_train)))\n",
        "X_test_bow = np.stack(list(map(text_to_bow, texts_test)))"
      ],
      "execution_count": 110,
      "outputs": []
    },
    {
      "cell_type": "code",
      "metadata": {
        "id": "22MBi8mM_2y3"
      },
      "source": [
        "k_max = len(bow_vocabulary)\n",
        "assert X_train_bow.shape == (len(texts_train), min(k, k_max))\n",
        "assert X_test_bow.shape == (len(texts_test), min(k, k_max))\n",
        "assert np.all(X_train_bow[5:10].sum(-1) == np.array([len(s.split()) for s in  texts_train[5:10]]))\n",
        "assert len(bow_vocabulary) <= min(k, k_max)\n",
        "assert X_train_bow[6, bow_vocabulary.index('.')] == texts_train[6].split().count('.')"
      ],
      "execution_count": 112,
      "outputs": []
    },
    {
      "cell_type": "markdown",
      "metadata": {
        "id": "_fHP56E0_2y4"
      },
      "source": [
        "__Naive bayes:__ perhaps the simplest model that can solve your problem is the so called Naive Bayes Classifier. \n",
        "Its a trivial linear model that assumes the independence of input features and computes the coefficients by, well, counting probabilities.\n",
        "\n",
        "If you don't remember the math behind Naive Bayes, read [this chunk](https://lena-voita.github.io/nlp_course/text_classification.html#naive_bayes) to help refresh your memory. Done? Good! Now let's implement that :)"
      ]
    },
    {
      "cell_type": "code",
      "metadata": {
        "id": "cpPg_-y5_2y4"
      },
      "source": [
        "class BinaryNaiveBayes:\n",
        "    delta = 1.0  # add this to all word counts to smoothe probabilities\n",
        "    \n",
        "    def fit(self, X, y):\n",
        "        \"\"\"\n",
        "        Fit a NaiveBayes classifier for two classes\n",
        "        :param X: [batch_size, vocab_size] of bag-of-words features\n",
        "        :param y: [batch_size] of binary targets {0, 1}\n",
        "        \"\"\"\n",
        "        # first, compute marginal probabilities of every class, p(y=k) for k = 0,1\n",
        "        self.p_y = np.array( [(y==k).sum()/len(y) for k in [0, 1]])\n",
        "        \n",
        "        # count occurences of each word in texts with label 1 and label 0 separately\n",
        "        word_counts_positive = np.sum(X[y==1], axis=0)\n",
        "        word_counts_negative = np.sum(X[y==0], axis=0)\n",
        "        # ^-- both must be vectors of shape [vocab_size].\n",
        "        \n",
        "        # finally, lets use those counts to estimate p(x | y = k) for k = 0, 1\n",
        "\n",
        "        self.p_x_given_positive = (self.delta + word_counts_positive) / (self.delta*len(word_counts_positive) + np.sum(word_counts_positive))\n",
        "        self.p_x_given_negative = (self.delta + word_counts_negative) / (self.delta*len(word_counts_negative) + np.sum(word_counts_negative))\n",
        "        # both must be of shape [vocab_size]; and don't forget to add self.delta!\n",
        "        \n",
        "        return self\n",
        "    \n",
        "    def predict_scores(self, X):\n",
        "        \"\"\"\n",
        "        :param X: [batch_size, vocab_size] of bag-of-words features\n",
        "        :returns: a matrix of scores [batch_size, k] of scores for k-th class\n",
        "        \"\"\"\n",
        "        # compute scores for positive and negative classes separately.\n",
        "        # these scores should be proportional to log-probabilities of the respective target {0, 1}\n",
        "        # note: if you apply logarithm to p_x_given_*, the total log-probability can be written\n",
        "        # as a dot-product with X\n",
        "\n",
        "        score_negative = np.array( [ np.log(self.p_y[0]) + np.sum(np.log(x[x!=0]*self.p_x_given_negative[x!=0])) for x in X] )\n",
        "        score_positive = np.array( [ np.log(self.p_y[1]) + np.sum(np.log(x[x!=0]*self.p_x_given_positive[x!=0])) for x in X] )\n",
        "        \n",
        "        # you can compute total p(x | y=k) with a dot product\n",
        "        return np.stack([score_negative, score_positive], axis=-1)\n",
        "    \n",
        "    def predict(self, X):\n",
        "        return self.predict_scores(X).argmax(axis=-1)"
      ],
      "execution_count": 158,
      "outputs": []
    },
    {
      "cell_type": "code",
      "metadata": {
        "id": "T4p03jLc_2y7"
      },
      "source": [
        "naive_model = BinaryNaiveBayes().fit(X_train_bow, y_train)"
      ],
      "execution_count": 159,
      "outputs": []
    },
    {
      "cell_type": "code",
      "metadata": {
        "id": "lrfX7gZ3_2y7"
      },
      "source": [
        "assert naive_model.p_y.shape == (2,) and naive_model.p_y.sum() == 1 and naive_model.p_y[0] > naive_model.p_y[1]\n",
        "assert naive_model.p_x_given_positive.shape == naive_model.p_x_given_negative.shape == X_train_bow.shape[1:]\n",
        "assert np.allclose(naive_model.p_x_given_positive.sum(), 1.0)\n",
        "assert np.allclose(naive_model.p_x_given_negative.sum(), 1.0)\n",
        "assert naive_model.p_x_given_negative.min() > 0, \"did you forget to add delta?\"\n",
        "\n",
        "f_index = bow_vocabulary.index('fuck')  # offensive tweets should contain more of this\n",
        "assert naive_model.p_x_given_positive[f_index] > naive_model.p_x_given_negative[f_index]\n",
        "\n",
        "g_index = bow_vocabulary.index('good')  # offensive tweets should contain less of this\n",
        "assert naive_model.p_x_given_positive[g_index] < naive_model.p_x_given_negative[g_index]"
      ],
      "execution_count": 160,
      "outputs": []
    },
    {
      "cell_type": "code",
      "metadata": {
        "id": "6aleDumx_2y8",
        "outputId": "900b621d-9fc7-4192-9a44-27711cdfccf1",
        "colab": {
          "base_uri": "https://localhost:8080/",
          "height": 299
        }
      },
      "source": [
        "from sklearn.metrics import roc_auc_score, roc_curve\n",
        "\n",
        "for name, X, y, model in [\n",
        "    ('train', X_train_bow, y_train, naive_model),\n",
        "    ('test ', X_test_bow, y_test, naive_model)\n",
        "]:\n",
        "    proba = model.predict_scores(X)[:, 1] - model.predict_scores(X)[:, 0]\n",
        "    auc = roc_auc_score(y, proba)\n",
        "    plt.plot(*roc_curve(y, proba)[:2], label='%s AUC=%.4f' % (name, auc))\n",
        "\n",
        "plt.plot([0, 1], [0, 1], '--', color='black',)\n",
        "plt.legend(fontsize='large')\n",
        "plt.grid()\n",
        "\n",
        "test_accuracy = np.mean(naive_model.predict(X_test_bow) == y_test)\n",
        "print(f\"Model accuracy: {test_accuracy:.3f}\")\n",
        "assert test_accuracy > 0.75, \"Accuracy too low. There's likely a mistake in the code.\"\n",
        "print(\"Well done!\")"
      ],
      "execution_count": 161,
      "outputs": [
        {
          "output_type": "stream",
          "text": [
            "Model accuracy: 0.770\n",
            "Well done!\n"
          ],
          "name": "stdout"
        },
        {
          "output_type": "display_data",
          "data": {
            "image/png": "[encoded data removed]",
            "text/plain": [
              "<Figure size 432x288 with 1 Axes>"
            ]
          },
          "metadata": {
            "tags": [],
            "needs_background": "light"
          }
        }
      ]
    },
    {
      "cell_type": "markdown",
      "metadata": {
        "id": "0RH2qPU7_2y9"
      },
      "source": [
        "Okay, it definitely learned *something*. Now let's figure out what exactly it learned. The simplest way to do that is by highlighting which words have a greatest ratio of positive to negative probability or vice versa. We'll go with the negative one [because reasons](https://www.urbandictionary.com/define.php?term=because%20reasons).\n",
        "\n",
        "__Your task__ is to compute top-25 words that have the __highest__ ratio of ${p(x_i | y=0)} \\over {p(x_i | y=1)}$. Enjoy!"
      ]
    },
    {
      "cell_type": "code",
      "metadata": {
        "id": "EpwLr2R-_2y9",
        "outputId": "a6e09527-e9b7-4e8f-e66b-98ef9d8f51f5",
        "colab": {
          "base_uri": "https://localhost:8080/"
        }
      },
      "source": [
        "# hint: use naive_model.p_*\n",
        "probability_ratio = (naive_model.p_x_given_negative * naive_model.p_y[0])/(naive_model.p_x_given_positive * naive_model.p_y[1])\n",
        "top_negative_words = [bow_vocabulary[i] for i in np.argsort(probability_ratio)[:25]]\n",
        "\n",
        "assert len(top_negative_words) == 25 and [isinstance(w, str) for w in top_negative_words]\n",
        "assert 'j.delanoy' in top_negative_words and 'college' in top_negative_words\n",
        "\n",
        "for i, word in enumerate(top_negative_words):\n",
        "    print(f\"#{i}\\t{word.rjust(10, ' ')}\\t(ratio={probability_ratio[bow_vocabulary.index(word)]})\")"
      ],
      "execution_count": 170,
      "outputs": [
        {
          "output_type": "stream",
          "text": [
            "#0\t    hitler\t(ratio=0.002280500018969178)\n",
            "#1\t      heil\t(ratio=0.0022982240188866854)\n",
            "#2\t   offfuck\t(ratio=0.002457380760461092)\n",
            "#3\t      suck\t(ratio=0.0034451044630259275)\n",
            "#4\t    nigger\t(ratio=0.004847620148211718)\n",
            "#5\t j.delanoy\t(ratio=0.004928413312882185)\n",
            "#6\t      dick\t(ratio=0.005798133555799723)\n",
            "#7\t      fggt\t(ratio=0.011088930070400238)\n",
            "#8\t     bitch\t(ratio=0.018104376271367073)\n",
            "#9\t      fuck\t(ratio=0.020161692053079605)\n",
            "#10\t      slap\t(ratio=0.02464206889271736)\n",
            "#11\t      shit\t(ratio=0.02464206889271736)\n",
            "#12\t   fucking\t(ratio=0.03411978483200073)\n",
            "#13\t       ass\t(ratio=0.04032338410615921)\n",
            "#14\t    stupid\t(ratio=0.05914096534252167)\n",
            "#15\t         =\t(ratio=0.06181982159614563)\n",
            "#16\t   college\t(ratio=0.06336531788110733)\n",
            "#17\t         *\t(ratio=0.06336531788110733)\n",
            "#18\t   asshole\t(ratio=0.06823956966400146)\n",
            "#19\t         u\t(ratio=0.07096915692090988)\n",
            "#20\t       hit\t(ratio=0.07392620295286179)\n",
            "#21\t   bastard\t(ratio=0.07392620295286179)\n",
            "#22\t         @\t(ratio=0.08064676821231842)\n",
            "#23\t     idiot\t(ratio=0.08064676821231842)\n",
            "#24\t beautiful\t(ratio=0.0887114405632019)\n"
          ],
          "name": "stdout"
        }
      ]
    },
    {
      "cell_type": "markdown",
      "metadata": {
        "id": "_vpx1tkC_2y-"
      },
      "source": [
        "Now lets try something less prehistoric: __Logistic Regression__. Turns out, if you're using silicon instead of an abacus, you can find model weights by optimizing the log-probability of the answer. Though, of course, you don't even need to write it by hand anymore. Let's sklearn it!"
      ]
    },
    {
      "cell_type": "code",
      "metadata": {
        "id": "lKC5Mdo__2y-"
      },
      "source": [
        "from sklearn.linear_model import LogisticRegression\n",
        "bow_model = LogisticRegression(C=1e-1, max_iter=1e4).fit(X_train_bow, y_train)"
      ],
      "execution_count": 203,
      "outputs": []
    },
    {
      "cell_type": "code",
      "metadata": {
        "id": "HXMd-r3v_2y_",
        "outputId": "9860cafa-d523-49fe-8c1b-59754db0abaa",
        "colab": {
          "base_uri": "https://localhost:8080/",
          "height": 299
        }
      },
      "source": [
        "from sklearn.metrics import roc_auc_score, roc_curve\n",
        "\n",
        "for name, X, y, model in [\n",
        "    ('train', X_train_bow, y_train, bow_model),\n",
        "    ('test ', X_test_bow, y_test, bow_model)\n",
        "]:\n",
        "    proba = model.predict_proba(X)[:, 1]\n",
        "    auc = roc_auc_score(y, proba)\n",
        "    plt.plot(*roc_curve(y, proba)[:2], label='%s AUC=%.4f' % (name, auc))\n",
        "\n",
        "plt.plot([0, 1], [0, 1], '--', color='black',)\n",
        "plt.legend(fontsize='large')\n",
        "plt.grid()\n",
        "\n",
        "test_accuracy = np.mean(bow_model.predict(X_test_bow) == y_test)\n",
        "print(f\"Model accuracy: {test_accuracy:.3f}\")\n",
        "assert test_accuracy > 0.77, \"Hint: tune the parameter C to improve performance\"\n",
        "print(\"Well done!\")"
      ],
      "execution_count": 204,
      "outputs": [
        {
          "output_type": "stream",
          "text": [
            "Model accuracy: 0.776\n",
            "Well done!\n"
          ],
          "name": "stdout"
        },
        {
          "output_type": "display_data",
          "data": {
            "image/png": "[encoded data removed]",
            "text/plain": [
              "<Figure size 432x288 with 1 Axes>"
            ]
          },
          "metadata": {
            "tags": [],
            "needs_background": "light"
          }
        }
      ]
    },
    {
      "cell_type": "markdown",
      "metadata": {
        "id": "AENfnfCk_2zA"
      },
      "source": [
        "### Task: implement TF-IDF features\n",
        "\n",
        "Not all words are equally useful. One can prioritize rare words and downscale words like \"and\"/\"or\" by using __tf-idf features__. This abbreviation stands for __text frequency/inverse document frequence__ and means exactly that:\n",
        "\n",
        "$$ feature_i = { Count(word_i \\in x) \\times { log {N \\over Count(word_i \\in D) + \\alpha} }} $$\n",
        "\n",
        "\n",
        ", where x is a single text, D is your dataset (a collection of texts), N is a total number of documents and $\\alpha$ is a smoothing hyperparameter (typically 1). \n",
        "And $Count(word_i \\in D)$ is the number of documents where $word_i$ appears.\n",
        "\n",
        "It may also be a good idea to normalize each data sample after computing tf-idf features.\n",
        "\n",
        "__Your task:__ implement tf-idf features, train a model and evaluate ROC curve. Compare it with basic BagOfWords model from above.\n",
        "\n",
        "Please don't use sklearn/nltk builtin tf-idf vectorizers in your solution :) You can still use 'em for debugging though."
      ]
    },
    {
      "cell_type": "code",
      "metadata": {
        "id": "J3lgRvgvC0CA"
      },
      "source": [
        "class TFIDF:\n",
        "  #delta = 1.0  # add this to all word counts to smoothe probabilities\n",
        "\n",
        "  def tf(X, vocabulary):\n",
        "    \"\"\"\n",
        "    Compute term frequency (TF) for words in document \n",
        "    :param X: [batch_size] of documents, where each document is the sentence\n",
        "    of fitures separated by spaces\n",
        "    :vocabulary: [vocab_size] of words, present in document in X\n",
        "    \"\"\"\n",
        "    self.tf = np.zeros( (len(X), len(vocabulary)) )\n",
        "\n",
        "    for i, sentence in enumerate(X):\n",
        "      for sent_word in sentence.split(\" \"):\n",
        "        if sent_word in vocabulary:\n",
        "          self.tf[i,vocabulary.index(sent_word)] += 1\n",
        "      self.tf[i] /= len(sentence.split(\" \"))\n",
        "\n",
        "    return self\n",
        "\n",
        "  def idf(X, vocabulary):\n",
        "    \"\"\"\n",
        "    Compute inverse document frequency (IDF) for words \n",
        "    :param X: [batch_size] of documents, where each document is the sentence\n",
        "    of fitures separated by spaces\n",
        "    :vocabulary: [vocab_size] of words, present in document in X\n",
        "    \"\"\"\n",
        "    self.idf = np.zeros(len(vocabulary))\n",
        "\n",
        "    for i, voc_word in enumerate(vocabulary):\n",
        "      for sentence in X:\n",
        "        if word in sentence.split():\n",
        "          self.idf[i] += 1\n",
        "      self.idf[i] = log(len(X)/len(self.idf[i]))\n",
        "\n",
        "    return self\n"
      ],
      "execution_count": 211,
      "outputs": []
    },
    {
      "cell_type": "code",
      "metadata": {
        "id": "gwBcwtgvX_ib",
        "outputId": "79b600e3-5da4-4273-f98a-e7abecfb4255",
        "colab": {
          "base_uri": "https://localhost:8080/"
        }
      },
      "source": [
        ""
      ],
      "execution_count": 213,
      "outputs": [
        {
          "output_type": "stream",
          "text": [
            "...\n",
            "\"\n",
            "henry\n",
            "\"\n",
            "\"\n",
            "who\n",
            "\"\n",
            "\"\n",
            "{\n",
            "don't\n",
            "warning\n",
            "\"\n",
            "fine\n",
            "a\n",
            "ya'll\n",
            "\"\n",
            "\"\n",
            "\"\n",
            "benidorm\n",
            "effigy\n",
            "12th\n",
            "worm\n",
            "\"\n",
            "\"\n",
            "dude\n",
            "are\n",
            "now\n",
            "does\n",
            "when\n",
            "i\n",
            "free\n",
            "excuse\n",
            "redirect\n",
            "o\n",
            "i'm\n",
            "so\n",
            "\"\n",
            "butts\n",
            "brandon\n",
            "not\n",
            "so\n",
            "ignorant\n",
            "see\n",
            "hanibal\n",
            "people\n",
            "\"\n",
            "\"\n",
            "bye\n",
            "sarekofvulcan\n",
            "your\n",
            "\"\n",
            "i'm\n",
            "a\n",
            "land\n",
            "go\n",
            "\"\n",
            "furthermore\n",
            "any\n",
            "suxk\n",
            "\"\n",
            ",\n",
            "so\n",
            "\"\n",
            "]\n",
            "you\n",
            "oh\n",
            "\"\n",
            "\"\n",
            "unblock\n",
            "heil\n",
            "sorry\n",
            ".\n",
            "\"\n",
            "\"\n",
            "to\n",
            "\"\n",
            "i'm\n",
            "file\n",
            "why\n",
            "i\n",
            "my\n",
            "i\n",
            "hey\n",
            "based\n",
            "\"\n",
            "bring\n",
            "adolf\n",
            "asshat\n",
            "twit\n",
            "\"\n",
            "my\n",
            "\"\n",
            "thanks\n",
            "hi\n",
            "you\n",
            "\"\n",
            "sidenote\n",
            "\"\n",
            "=\n",
            "that\n",
            "hey\n",
            "not\n",
            "go\n",
            "\"\n",
            "\"\n",
            "dahn\n",
            "headline\n",
            "your\n",
            "\"\n",
            "ecw\n",
            "way\n",
            "attention\n",
            "articles\n",
            "usbecause\n",
            "\"\n",
            ",\n",
            "\"\n",
            "blind\n",
            "\"\n",
            "|\n",
            "\"\n",
            "article\n",
            "busking\n",
            "dont\n",
            "if\n",
            "and\n",
            "but\n",
            "seriously\n",
            "fuck\n",
            "block\n",
            "did\n",
            "lol\n",
            "take\n",
            "hey\n",
            "teadrinker\n",
            "\"\n",
            "\"\n",
            "yep\n",
            "i\n",
            "\"\n",
            "burn\n",
            "you\n",
            "fucking\n",
            "its\n",
            "sexuality\n",
            "don't\n",
            "hey\n",
            "citing\n",
            "fuck\n",
            "get\n",
            "it\n",
            "information\n",
            "lowlife\n",
            "nigger\n",
            "new\n",
            "05:35\n",
            "the\n",
            "}\n",
            "\"\n",
            "unacceptable\n",
            "\"\n",
            "fuck\n",
            "i\n",
            "\"\n",
            "croke\n",
            "i\n",
            "you\n",
            "kids\n",
            "\"\n",
            "formal\n",
            "please\n",
            "fuck\n",
            "i\n",
            "\"\n",
            "please\n",
            "also\n",
            "\"\n",
            "ok\n",
            "my\n",
            "based\n",
            "materials\n",
            "what\n",
            "\"\n",
            "\"\n",
            "\"\n",
            "nah\n",
            "goal\n",
            "hey\n",
            "thank\n",
            "and\n",
            "go\n",
            "fuck\n",
            "i\n",
            "\"\n",
            "i've\n",
            "i\n",
            "edit\n",
            "timeslot\n",
            "u\n",
            "i\n",
            "dcandeto\n",
            "\"\n",
            "good\n",
            "are\n",
            "33\n",
            "guess\n",
            "\"\n",
            "run\n",
            "let\n",
            "conclusion\n",
            "if\n",
            "i\n",
            "\"\n",
            "regarding\n",
            "although\n",
            "fight\n",
            "hey\n",
            "message\n",
            "\"\n",
            "\"\n",
            "stay\n",
            "i\n",
            "hey\n",
            "\"\n",
            "last\n",
            "redirect\n",
            "\"\n",
            "note\n",
            "good\n",
            "do\n",
            "\"\n",
            "monster\n",
            "apology\n",
            "\"\n",
            "category\n",
            "tiderolls\n",
            "file\n",
            "\"\n",
            "support\n",
            "\"\n",
            "he\n",
            "bare\n",
            "hi\n",
            "note\n",
            "it\n",
            "paul\n",
            "just\n",
            "\"\n",
            "those\n",
            "laara\n",
            "for\n",
            "otrs\n",
            "eternal\n",
            "harry\n",
            "\"\n",
            "\"\n",
            "\"\n",
            "is\n",
            "stop\n",
            "\"\n",
            "do\n",
            "elonka\n",
            "january\n",
            "\"\n",
            "internal\n",
            "hahahahahaha\n",
            "\"\n",
            "my\n",
            "\"\n",
            "rape\n",
            "\"\n",
            "within\n",
            "\"\n",
            "the\n",
            "\"\n",
            "eat\n",
            "\"\n",
            "\"\n",
            ",\n",
            "ockels\n",
            "that\n",
            "hey\n",
            "redirect\n",
            "\"\n",
            "bodhidarama\n",
            "hi\n",
            "\"\n",
            "jamais\n",
            "help\n",
            "\"\n",
            "uhhhh\n",
            "|\n",
            "i'm\n",
            "\"\n",
            "che\n",
            "mean\n",
            "\"\n",
            "this\n",
            "tidying\n",
            "\"\n",
            "suicides\n",
            "getting\n",
            "and\n",
            "hello\n",
            "fuck\n",
            "hooray\n",
            "durova\n",
            "well\n",
            "skyteam\n",
            "hahaha\n",
            "i\n",
            "i\n",
            "yeah\n",
            "j.delanoy\n",
            "so\n",
            "norman\n",
            ",\n",
            "then\n",
            "i\n",
            "i\n",
            "hey\n",
            "\"\n",
            "you're\n",
            "ban\n",
            "hi\n",
            "\"\n",
            "lucky\n",
            "maybe\n",
            "why\n",
            "i\n",
            "stick\n",
            "i\n",
            "still\n",
            "surname\n",
            "this\n",
            "don't\n",
            "\"\n",
            "\"\n",
            "stop\n",
            "rfa\n",
            "\"\n",
            "\"\n",
            "what\n",
            "five\n",
            "\"\n",
            "babu\n",
            "i\n",
            "conversation\n",
            "\"\n",
            "\"\n",
            "wikipedia\n",
            "\"\n",
            "\"\n",
            "he\n",
            "a\n",
            "you\n",
            "didier\n",
            "samantha\n",
            "\"\n",
            "i\n",
            "silliness\n",
            "you're\n",
            "\"\n",
            "\"\n",
            "oh\n",
            "\"\n",
            "i\n",
            "\"\n",
            "\"\n",
            "\"\n",
            "sagaiousphil\n",
            "insult\n",
            "computers\n",
            "piotrus\n",
            "blow\n",
            "sundos\n",
            "as\n",
            "listen\n",
            "2006\n",
            "i\n",
            "\"\n",
            "\"\n",
            "\"\n",
            "do\n",
            "her\n",
            "|\n",
            "fuck\n",
            "\"\n",
            "i\n",
            "talk\n",
            "\"\n",
            "nazis\n",
            "references\n",
            "\"\n",
            "aroenel\n",
            "pig\n",
            "total\n",
            "p\n",
            "hi\n",
            "\"\n",
            "caps\n",
            "three\n",
            "there's\n",
            "will\n",
            "well\n",
            "fuck\n",
            "hmmm\n",
            "you\n",
            "fuck\n",
            "stop\n",
            "you're\n",
            "\"\n",
            "ddduu\n",
            "\"\n",
            "so\n",
            "its\n",
            "thanks\n",
            "\"\n",
            "]\n",
            "<-\n",
            "why\n",
            "formating\n",
            "dog\n",
            "dont\n",
            "words\n",
            "\"\n",
            "stay\n",
            "ps\n",
            "international\n",
            "\"\n",
            "\"\n",
            "\"\n",
            "\"\n",
            "that\n",
            "your\n",
            "\"\n",
            "\"\n",
            "thanks\n",
            "can\n",
            "so\n",
            "your\n",
            "definitely\n",
            "your\n",
            "eat\n",
            "forst\n",
            "kobe\n",
            "this\n",
            "i\n",
            "niggers\n",
            "a\n",
            "therefore\n",
            ",\n",
            "hi\n",
            "\"\n",
            "yes\n",
            "rex\n",
            "isis\n",
            "fair\n",
            "well\n",
            "thanks\n",
            "lamellae\n",
            "nazis\n",
            "this\n",
            "not\n",
            "\"\n",
            "\"\n",
            "leave\n",
            "afd\n",
            "moreover\n",
            "i\n",
            "\"\n",
            "\"\n",
            "redirect\n",
            "\"\n",
            "it\n",
            "orangemarlin\n",
            "a\n",
            ">\n",
            "i'm\n",
            "\"\n",
            "you're\n",
            "we\n",
            "grow\n",
            "sneering\n",
            "febuary\n",
            "\"\n",
            "\"\n",
            "what\n",
            "small\n",
            "\"\n",
            "the\n",
            "hi\n",
            "image\n",
            "then\n",
            "support\n",
            "\"\n",
            "\"\n",
            "fuck\n",
            "\"\n",
            "wikipedia\n"
          ],
          "name": "stdout"
        },
        {
          "output_type": "execute_result",
          "data": {
            "text/plain": [
              "array([None, None, None, None, None, None, None, None, None, None, None,\n",
              "       None, None, None, None, None, None, None, None, None, None, None,\n",
              "       None, None, None, None, None, None, None, None, None, None, None,\n",
              "       None, None, None, None, None, None, None, None, None, None, None,\n",
              "       None, None, None, None, None, None, None, None, None, None, None,\n",
              "       None, None, None, None, None, None, None, None, None, None, None,\n",
              "       None, None, None, None, None, None, None, None, None, None, None,\n",
              "       None, None, None, None, None, None, None, None, None, None, None,\n",
              "       None, None, None, None, None, None, None, None, None, None, None,\n",
              "       None, None, None, None, None, None, None, None, None, None, None,\n",
              "       None, None, None, None, None, None, None, None, None, None, None,\n",
              "       None, None, None, None, None, None, None, None, None, None, None,\n",
              "       None, None, None, None, None, None, None, None, None, None, None,\n",
              "       None, None, None, None, None, None, None, None, None, None, None,\n",
              "       None, None, None, None, None, None, None, None, None, None, None,\n",
              "       None, None, None, None, None, None, None, None, None, None, None,\n",
              "       None, None, None, None, None, None, None, None, None, None, None,\n",
              "       None, None, None, None, None, None, None, None, None, None, None,\n",
              "       None, None, None, None, None, None, None, None, None, None, None,\n",
              "       None, None, None, None, None, None, None, None, None, None, None,\n",
              "       None, None, None, None, None, None, None, None, None, None, None,\n",
              "       None, None, None, None, None, None, None, None, None, None, None,\n",
              "       None, None, None, None, None, None, None, None, None, None, None,\n",
              "       None, None, None, None, None, None, None, None, None, None, None,\n",
              "       None, None, None, None, None, None, None, None, None, None, None,\n",
              "       None, None, None, None, None, None, None, None, None, None, None,\n",
              "       None, None, None, None, None, None, None, None, None, None, None,\n",
              "       None, None, None, None, None, None, None, None, None, None, None,\n",
              "       None, None, None, None, None, None, None, None, None, None, None,\n",
              "       None, None, None, None, None, None, None, None, None, None, None,\n",
              "       None, None, None, None, None, None, None, None, None, None, None,\n",
              "       None, None, None, None, None, None, None, None, None, None, None,\n",
              "       None, None, None, None, None, None, None, None, None, None, None,\n",
              "       None, None, None, None, None, None, None, None, None, None, None,\n",
              "       None, None, None, None, None, None, None, None, None, None, None,\n",
              "       None, None, None, None, None, None, None, None, None, None, None,\n",
              "       None, None, None, None, None, None, None, None, None, None, None,\n",
              "       None, None, None, None, None, None, None, None, None, None, None,\n",
              "       None, None, None, None, None, None, None, None, None, None, None,\n",
              "       None, None, None, None, None, None, None, None, None, None, None,\n",
              "       None, None, None, None, None, None, None, None, None, None, None,\n",
              "       None, None, None, None, None, None, None, None, None, None, None,\n",
              "       None, None, None, None, None, None, None, None, None, None, None,\n",
              "       None, None, None, None, None, None, None, None, None, None, None,\n",
              "       None, None, None, None, None, None, None, None, None, None, None,\n",
              "       None, None, None, None, None], dtype=object)"
            ]
          },
          "metadata": {
            "tags": []
          },
          "execution_count": 213
        }
      ]
    },
    {
      "cell_type": "markdown",
      "metadata": {
        "id": "4qJhxDYY_2zB"
      },
      "source": [
        "### Solving it better: word vectors\n",
        "\n",
        "Let's try another approach: instead of counting per-word frequencies, we shall map all words to pre-trained word vectors and average over them to get text features.\n",
        "\n",
        "This should give us two key advantages: (1) we now have 10^2 features instead of 10^4 and (2) our model can generalize to word that are not in training dataset.\n",
        "\n",
        "We begin with a standard approach with pre-trained word vectors. However, you may also try\n",
        "* training embeddings from scratch on relevant (unlabeled) data\n",
        "* multiplying word vectors by inverse word frequency in dataset (like tf-idf).\n",
        "* concatenating several embeddings\n",
        "    * call `gensim.downloader.info()['models'].keys()` to get a list of available models\n",
        "* clusterizing words by their word-vectors and try bag of cluster_ids\n",
        "\n",
        "__Note:__ loading pre-trained model may take a while. It's a perfect opportunity to refill your cup of tea/coffee and grab some extra cookies. Or binge-watch some tv series if you're slow on internet connection"
      ]
    },
    {
      "cell_type": "code",
      "metadata": {
        "collapsed": true,
        "scrolled": false,
        "id": "LrtT-DDn_2zB"
      },
      "source": [
        "import gensim.downloader \n",
        "embeddings = gensim.downloader.load(\"fasttext-wiki-news-subwords-300\")\n",
        "\n",
        "# If you're low on RAM or download speed, use \"glove-wiki-gigaword-100\" instead. Ignore all further asserts."
      ],
      "execution_count": null,
      "outputs": []
    },
    {
      "cell_type": "code",
      "metadata": {
        "collapsed": true,
        "id": "7EmyJTtC_2zC"
      },
      "source": [
        "def vectorize_sum(comment):\n",
        "    \"\"\"\n",
        "    implement a function that converts preprocessed comment to a sum of token vectors\n",
        "    \"\"\"\n",
        "    embedding_dim = embeddings.wv.vectors.shape[1]\n",
        "    features = np.zeros([embedding_dim], dtype='float32')\n",
        "    \n",
        "    <YOUR CODE>\n",
        "    \n",
        "    return features\n",
        "\n",
        "assert np.allclose(\n",
        "    vectorize_sum(\"who cares anymore . they attack with impunity .\")[::70],\n",
        "    np.array([ 0.0108616 ,  0.0261663 ,  0.13855131, -0.18510573, -0.46380025])\n",
        ")"
      ],
      "execution_count": null,
      "outputs": []
    },
    {
      "cell_type": "code",
      "metadata": {
        "collapsed": true,
        "id": "Ziu30hmB_2zC"
      },
      "source": [
        "X_train_wv = np.stack([vectorize_sum(text) for text in texts_train])\n",
        "X_test_wv = np.stack([vectorize_sum(text) for text in texts_test])"
      ],
      "execution_count": null,
      "outputs": []
    },
    {
      "cell_type": "code",
      "metadata": {
        "id": "iD4HU6xg_2zD",
        "outputId": "fb36452b-60fc-4cc2-a5ec-a139a539b5f1"
      },
      "source": [
        "wv_model = LogisticRegression().fit(X_train_wv, y_train)\n",
        "\n",
        "for name, X, y, model in [\n",
        "    ('bow train', X_train_bow, y_train, bow_model),\n",
        "    ('bow test ', X_test_bow, y_test, bow_model),\n",
        "    ('vec train', X_train_wv, y_train, wv_model),\n",
        "    ('vec test ', X_test_wv, y_test, wv_model)\n",
        "]:\n",
        "    proba = model.predict_proba(X)[:, 1]\n",
        "    auc = roc_auc_score(y, proba)\n",
        "    plt.plot(*roc_curve(y, proba)[:2], label='%s AUC=%.4f' % (name, auc))\n",
        "\n",
        "plt.plot([0, 1], [0, 1], '--', color='black',)\n",
        "plt.legend(fontsize='large')\n",
        "plt.grid()\n",
        "\n",
        "assert roc_auc_score(y_test, wv_model.predict_proba(X_test_wv)[:, 1]) > 0.92, \"something's wrong with your features\""
      ],
      "execution_count": null,
      "outputs": [
        {
          "output_type": "display_data",
          "data": {
            "image/png": "[encoded data removed]",
            "text/plain": [
              "<matplotlib.figure.Figure at 0x7fc2d6dba550>"
            ]
          },
          "metadata": {
            "tags": []
          }
        }
      ]
    },
    {
      "cell_type": "markdown",
      "metadata": {
        "id": "mfotFyZr_2zD"
      },
      "source": [
        "If everything went right, you've just managed to reduce misclassification rate by a factor of two.\n",
        "This trick is very useful when you're dealing with small datasets. However, if you have hundreds of thousands of samples, there's a whole different range of methods for that. We'll get there in the second part."
      ]
    }
  ]
}